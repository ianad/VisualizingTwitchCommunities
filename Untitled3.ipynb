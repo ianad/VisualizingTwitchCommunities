{
  "nbformat": 4,
  "nbformat_minor": 0,
  "metadata": {
    "colab": {
      "provenance": [],
      "authorship_tag": "ABX9TyOehakHVuiZUEHDZQl+bPdp",
      "include_colab_link": true
    },
    "kernelspec": {
      "name": "python3",
      "display_name": "Python 3"
    },
    "language_info": {
      "name": "python"
    }
  },
  "cells": [
    {
      "cell_type": "markdown",
      "metadata": {
        "id": "view-in-github",
        "colab_type": "text"
      },
      "source": [
        "<a href=\"https://colab.research.google.com/github/ianad/VisualizingTwitchCommunities/blob/CloudCompute/Untitled3.ipynb\" target=\"_parent\"><img src=\"https://colab.research.google.com/assets/colab-badge.svg\" alt=\"Open In Colab\"/></a>"
      ]
    },
    {
      "cell_type": "code",
      "execution_count": null,
      "metadata": {
        "colab": {
          "base_uri": "https://localhost:8080/"
        },
        "id": "uHAysIfqOt4h",
        "outputId": "5e00013c-0b7e-445c-99ee-c2319140174d"
      },
      "outputs": [
        {
          "output_type": "stream",
          "name": "stdout",
          "text": [
            "Requirement already satisfied: yfinance in /usr/local/lib/python3.10/dist-packages (0.2.40)\n",
            "Requirement already satisfied: pandas>=1.3.0 in /usr/local/lib/python3.10/dist-packages (from yfinance) (2.0.3)\n",
            "Requirement already satisfied: numpy>=1.16.5 in /usr/local/lib/python3.10/dist-packages (from yfinance) (1.25.2)\n",
            "Requirement already satisfied: requests>=2.31 in /usr/local/lib/python3.10/dist-packages (from yfinance) (2.31.0)\n",
            "Requirement already satisfied: multitasking>=0.0.7 in /usr/local/lib/python3.10/dist-packages (from yfinance) (0.0.11)\n",
            "Requirement already satisfied: lxml>=4.9.1 in /usr/local/lib/python3.10/dist-packages (from yfinance) (4.9.4)\n",
            "Requirement already satisfied: platformdirs>=2.0.0 in /usr/local/lib/python3.10/dist-packages (from yfinance) (4.2.2)\n",
            "Requirement already satisfied: pytz>=2022.5 in /usr/local/lib/python3.10/dist-packages (from yfinance) (2023.4)\n",
            "Requirement already satisfied: frozendict>=2.3.4 in /usr/local/lib/python3.10/dist-packages (from yfinance) (2.4.4)\n",
            "Requirement already satisfied: peewee>=3.16.2 in /usr/local/lib/python3.10/dist-packages (from yfinance) (3.17.5)\n",
            "Requirement already satisfied: beautifulsoup4>=4.11.1 in /usr/local/lib/python3.10/dist-packages (from yfinance) (4.12.3)\n",
            "Requirement already satisfied: html5lib>=1.1 in /usr/local/lib/python3.10/dist-packages (from yfinance) (1.1)\n",
            "Requirement already satisfied: soupsieve>1.2 in /usr/local/lib/python3.10/dist-packages (from beautifulsoup4>=4.11.1->yfinance) (2.5)\n",
            "Requirement already satisfied: six>=1.9 in /usr/local/lib/python3.10/dist-packages (from html5lib>=1.1->yfinance) (1.16.0)\n",
            "Requirement already satisfied: webencodings in /usr/local/lib/python3.10/dist-packages (from html5lib>=1.1->yfinance) (0.5.1)\n",
            "Requirement already satisfied: python-dateutil>=2.8.2 in /usr/local/lib/python3.10/dist-packages (from pandas>=1.3.0->yfinance) (2.8.2)\n",
            "Requirement already satisfied: tzdata>=2022.1 in /usr/local/lib/python3.10/dist-packages (from pandas>=1.3.0->yfinance) (2024.1)\n",
            "Requirement already satisfied: charset-normalizer<4,>=2 in /usr/local/lib/python3.10/dist-packages (from requests>=2.31->yfinance) (3.3.2)\n",
            "Requirement already satisfied: idna<4,>=2.5 in /usr/local/lib/python3.10/dist-packages (from requests>=2.31->yfinance) (3.7)\n",
            "Requirement already satisfied: urllib3<3,>=1.21.1 in /usr/local/lib/python3.10/dist-packages (from requests>=2.31->yfinance) (2.0.7)\n",
            "Requirement already satisfied: certifi>=2017.4.17 in /usr/local/lib/python3.10/dist-packages (from requests>=2.31->yfinance) (2024.6.2)\n"
          ]
        }
      ],
      "source": [
        "!pip install yfinance"
      ]
    },
    {
      "cell_type": "code",
      "source": [
        "import yfinance as yf"
      ],
      "metadata": {
        "id": "vqrDLmdBOv_f"
      },
      "execution_count": null,
      "outputs": []
    },
    {
      "cell_type": "code",
      "source": [
        "start_date = '2023-03-31'\n",
        "end_date = '2024-03-31'\n",
        "\n",
        "tickers = ['WIX', 'NVDA', 'CCJ', 'AMD', 'LLY', 'NFLX', 'TDG', 'NEE', 'GDDY', 'VST']\n",
        "\n",
        "data_list = []\n",
        "\n",
        "for ticker in tickers:\n",
        "    data = yf.download(ticker, start= start_date, end = end_date, period = '1d')\n",
        "    data['ticker'] = ticker\n",
        "    data_list.append(data)\n",
        "\n",
        "    ### Code is incomplete, please update to allow you to collect all data\n",
        "    print(data) # show example data\n",
        "    break"
      ],
      "metadata": {
        "colab": {
          "base_uri": "https://localhost:8080/"
        },
        "id": "uAE42eVEOzgA",
        "outputId": "f57ba686-478c-4c5b-95ea-e0d8187b9687"
      },
      "execution_count": null,
      "outputs": [
        {
          "output_type": "stream",
          "name": "stderr",
          "text": [
            "\r[*********************100%%**********************]  1 of 1 completed"
          ]
        },
        {
          "output_type": "stream",
          "name": "stdout",
          "text": [
            "                  Open        High         Low       Close   Adj Close  \\\n",
            "Date                                                                     \n",
            "2023-03-31   96.470001  100.199997   95.940002   99.800003   99.800003   \n",
            "2023-04-03   98.320000   99.180000   96.680000   98.279999   98.279999   \n",
            "2023-04-04   98.500000  101.550003   98.449997   99.809998   99.809998   \n",
            "2023-04-05   99.139999   99.220001   95.300003   96.320000   96.320000   \n",
            "2023-04-06   94.519997   95.459999   92.949997   93.400002   93.400002   \n",
            "...                ...         ...         ...         ...         ...   \n",
            "2024-03-22  139.889999  140.550003  137.500000  139.339996  139.339996   \n",
            "2024-03-25  139.619995  140.100006  137.529999  137.699997  137.699997   \n",
            "2024-03-26  138.229996  139.660004  137.139999  138.050003  138.050003   \n",
            "2024-03-27  141.000000  141.889999  135.279999  136.539993  136.539993   \n",
            "2024-03-28  135.669998  140.800003  135.449997  137.479996  137.479996   \n",
            "\n",
            "            Volume ticker  \n",
            "Date                       \n",
            "2023-03-31  768300    WIX  \n",
            "2023-04-03  377900    WIX  \n",
            "2023-04-04  667900    WIX  \n",
            "2023-04-05  605800    WIX  \n",
            "2023-04-06  602500    WIX  \n",
            "...            ...    ...  \n",
            "2024-03-22  233700    WIX  \n",
            "2024-03-25  317100    WIX  \n",
            "2024-03-26  295200    WIX  \n",
            "2024-03-27  525900    WIX  \n",
            "2024-03-28  501800    WIX  \n",
            "\n",
            "[250 rows x 7 columns]\n"
          ]
        },
        {
          "output_type": "stream",
          "name": "stderr",
          "text": [
            "\n"
          ]
        }
      ]
    },
    {
      "cell_type": "code",
      "source": [],
      "metadata": {
        "id": "b3I3jxSSYwTf"
      },
      "execution_count": null,
      "outputs": []
    }
  ]
}